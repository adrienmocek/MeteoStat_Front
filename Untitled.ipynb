{
 "cells": [
  {
   "cell_type": "code",
   "execution_count": 1,
   "id": "ff3a67e8",
   "metadata": {},
   "outputs": [],
   "source": [
    "import pandas as pd\n",
    "import streamlit as st"
   ]
  },
  {
   "cell_type": "code",
   "execution_count": 2,
   "id": "33c4a2d9",
   "metadata": {},
   "outputs": [],
   "source": [
    "cities_df = pd.read_csv('data/lewagon_cities.csv')"
   ]
  },
  {
   "cell_type": "code",
   "execution_count": 3,
   "id": "63cb4cd7",
   "metadata": {},
   "outputs": [
    {
     "data": {
      "text/html": [
       "<div>\n",
       "<style scoped>\n",
       "    .dataframe tbody tr th:only-of-type {\n",
       "        vertical-align: middle;\n",
       "    }\n",
       "\n",
       "    .dataframe tbody tr th {\n",
       "        vertical-align: top;\n",
       "    }\n",
       "\n",
       "    .dataframe thead th {\n",
       "        text-align: right;\n",
       "    }\n",
       "</style>\n",
       "<table border=\"1\" class=\"dataframe\">\n",
       "  <thead>\n",
       "    <tr style=\"text-align: right;\">\n",
       "      <th></th>\n",
       "      <th>city</th>\n",
       "      <th>lat</th>\n",
       "      <th>lon</th>\n",
       "    </tr>\n",
       "  </thead>\n",
       "  <tbody>\n",
       "    <tr>\n",
       "      <th>0</th>\n",
       "      <td>Bordeaux</td>\n",
       "      <td>44.834999</td>\n",
       "      <td>-0.575490</td>\n",
       "    </tr>\n",
       "    <tr>\n",
       "      <th>1</th>\n",
       "      <td>Lille</td>\n",
       "      <td>50.629250</td>\n",
       "      <td>3.057256</td>\n",
       "    </tr>\n",
       "    <tr>\n",
       "      <th>2</th>\n",
       "      <td>Lyon</td>\n",
       "      <td>45.767311</td>\n",
       "      <td>4.834310</td>\n",
       "    </tr>\n",
       "    <tr>\n",
       "      <th>3</th>\n",
       "      <td>Marseille</td>\n",
       "      <td>43.295021</td>\n",
       "      <td>5.374490</td>\n",
       "    </tr>\n",
       "    <tr>\n",
       "      <th>4</th>\n",
       "      <td>Nantes</td>\n",
       "      <td>47.218262</td>\n",
       "      <td>-1.557180</td>\n",
       "    </tr>\n",
       "    <tr>\n",
       "      <th>5</th>\n",
       "      <td>Nice</td>\n",
       "      <td>43.703169</td>\n",
       "      <td>7.182777</td>\n",
       "    </tr>\n",
       "    <tr>\n",
       "      <th>6</th>\n",
       "      <td>Paris</td>\n",
       "      <td>48.858854</td>\n",
       "      <td>2.312041</td>\n",
       "    </tr>\n",
       "    <tr>\n",
       "      <th>7</th>\n",
       "      <td>Rennes</td>\n",
       "      <td>48.115910</td>\n",
       "      <td>-1.723474</td>\n",
       "    </tr>\n",
       "    <tr>\n",
       "      <th>8</th>\n",
       "      <td>Fontainebleau</td>\n",
       "      <td>48.404700</td>\n",
       "      <td>2.701600</td>\n",
       "    </tr>\n",
       "    <tr>\n",
       "      <th>9</th>\n",
       "      <td>Saint-Germain-en-laye</td>\n",
       "      <td>48.898900</td>\n",
       "      <td>2.093800</td>\n",
       "    </tr>\n",
       "  </tbody>\n",
       "</table>\n",
       "</div>"
      ],
      "text/plain": [
       "                    city        lat       lon\n",
       "0               Bordeaux  44.834999 -0.575490\n",
       "1                  Lille  50.629250  3.057256\n",
       "2                   Lyon  45.767311  4.834310\n",
       "3              Marseille  43.295021  5.374490\n",
       "4                 Nantes  47.218262 -1.557180\n",
       "5                   Nice  43.703169  7.182777\n",
       "6                  Paris  48.858854  2.312041\n",
       "7                 Rennes  48.115910 -1.723474\n",
       "8          Fontainebleau  48.404700  2.701600\n",
       "9  Saint-Germain-en-laye  48.898900  2.093800"
      ]
     },
     "execution_count": 3,
     "metadata": {},
     "output_type": "execute_result"
    }
   ],
   "source": [
    "cities_df"
   ]
  },
  {
   "cell_type": "code",
   "execution_count": 13,
   "id": "11c6b55d",
   "metadata": {},
   "outputs": [],
   "source": [
    "def city_choice(city_name): \n",
    "    #if city_name in cities_df['city']:\n",
    "    try:\n",
    "        return cities_df.query(f'city == \"{city_name}\"').lat.values[0], cities_df.query(f'city == \"{city_name}\"').lon.values[0]\n",
    "    except: \n",
    "        return"
   ]
  },
  {
   "cell_type": "code",
   "execution_count": 7,
   "id": "5a9c902a",
   "metadata": {},
   "outputs": [
    {
     "ename": "NameError",
     "evalue": "name 'city_name' is not defined",
     "output_type": "error",
     "traceback": [
      "\u001b[0;31m---------------------------------------------------------------------------\u001b[0m",
      "\u001b[0;31mNameError\u001b[0m                                 Traceback (most recent call last)",
      "\u001b[0;32m/var/folders/j7/l87pfv1s21g94vbjvxyz4qz00000gn/T/ipykernel_31698/580288381.py\u001b[0m in \u001b[0;36m<module>\u001b[0;34m\u001b[0m\n\u001b[0;32m----> 1\u001b[0;31m \u001b[0mcities_df\u001b[0m\u001b[0;34m.\u001b[0m\u001b[0mquery\u001b[0m\u001b[0;34m(\u001b[0m\u001b[0;34mf'city == \"{city_name}\"'\u001b[0m\u001b[0;34m)\u001b[0m\u001b[0;34m.\u001b[0m\u001b[0mlat\u001b[0m\u001b[0;34m.\u001b[0m\u001b[0mvalues\u001b[0m\u001b[0;34m[\u001b[0m\u001b[0;36m0\u001b[0m\u001b[0;34m]\u001b[0m\u001b[0;34m\u001b[0m\u001b[0;34m\u001b[0m\u001b[0m\n\u001b[0m",
      "\u001b[0;31mNameError\u001b[0m: name 'city_name' is not defined"
     ]
    }
   ],
   "source": [
    "cities_df.query(f'city == \"{city_name}\"').lat.values[0]"
   ]
  },
  {
   "cell_type": "code",
   "execution_count": 17,
   "id": "62bde5f2",
   "metadata": {},
   "outputs": [
    {
     "name": "stdout",
     "output_type": "stream",
     "text": [
      "[48.4047, 2.7016]\n"
     ]
    }
   ],
   "source": [
    "print(list(city_choice('Fontainebleau')))"
   ]
  },
  {
   "cell_type": "code",
   "execution_count": 9,
   "id": "2b4ecc5d",
   "metadata": {},
   "outputs": [
    {
     "name": "stderr",
     "output_type": "stream",
     "text": [
      "2022-03-09 12:02:27.190 \n",
      "  \u001b[33m\u001b[1mWarning:\u001b[0m to view this Streamlit app on a browser, run it with the following\n",
      "  command:\n",
      "\n",
      "    streamlit run /Users/adrien/.pyenv/versions/3.8.12/envs/lewagon/lib/python3.8/site-packages/ipykernel_launcher.py [ARGUMENTS]\n"
     ]
    }
   ],
   "source": [
    "a = st.button('Paris')\n",
    " "
   ]
  },
  {
   "cell_type": "code",
   "execution_count": 24,
   "id": "f247c9df",
   "metadata": {},
   "outputs": [],
   "source": [
    "def get_coordinates(city_name):\n",
    "    try:\n",
    "        return cities_df.query(f'city == \"{city_name}\"').lat.values[0], cities_df.query(f'city == \"{city_name}\"').lon.values[0]\n",
    "    except:\n",
    "        return \"Please choose a valid location\""
   ]
  },
  {
   "cell_type": "code",
   "execution_count": 25,
   "id": "c78fe517",
   "metadata": {},
   "outputs": [],
   "source": [
    "location = get_coordinates('Paris')"
   ]
  },
  {
   "cell_type": "code",
   "execution_count": 26,
   "id": "5ea550f3",
   "metadata": {},
   "outputs": [
    {
     "data": {
      "text/plain": [
       "(48.8588536, 2.3120407)"
      ]
     },
     "execution_count": 26,
     "metadata": {},
     "output_type": "execute_result"
    }
   ],
   "source": [
    "location"
   ]
  },
  {
   "cell_type": "code",
   "execution_count": 28,
   "id": "fb1f43ec",
   "metadata": {},
   "outputs": [
    {
     "data": {
      "text/plain": [
       "[48.4047, 2.7016]"
      ]
     },
     "execution_count": 28,
     "metadata": {},
     "output_type": "execute_result"
    }
   ],
   "source": [
    "list(get_coordinates('Fontainebleau'))"
   ]
  },
  {
   "cell_type": "code",
   "execution_count": null,
   "id": "dd321ab0",
   "metadata": {},
   "outputs": [],
   "source": []
  }
 ],
 "metadata": {
  "kernelspec": {
   "display_name": "Python 3 (ipykernel)",
   "language": "python",
   "name": "python3"
  },
  "language_info": {
   "codemirror_mode": {
    "name": "ipython",
    "version": 3
   },
   "file_extension": ".py",
   "mimetype": "text/x-python",
   "name": "python",
   "nbconvert_exporter": "python",
   "pygments_lexer": "ipython3",
   "version": "3.8.12"
  },
  "toc": {
   "base_numbering": 1,
   "nav_menu": {},
   "number_sections": true,
   "sideBar": true,
   "skip_h1_title": false,
   "title_cell": "Table of Contents",
   "title_sidebar": "Contents",
   "toc_cell": false,
   "toc_position": {},
   "toc_section_display": true,
   "toc_window_display": false
  }
 },
 "nbformat": 4,
 "nbformat_minor": 5
}
